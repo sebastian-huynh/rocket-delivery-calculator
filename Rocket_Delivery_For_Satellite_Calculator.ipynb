{
  "nbformat": 4,
  "nbformat_minor": 0,
  "metadata": {
    "colab": {
      "provenance": []
    },
    "kernelspec": {
      "name": "python3",
      "display_name": "Python 3"
    },
    "language_info": {
      "name": "python"
    }
  },
  "cells": [
    {
      "cell_type": "code",
      "execution_count": 3,
      "metadata": {
        "id": "vSe9CG_cxZsx"
      },
      "outputs": [],
      "source": [
        "from datetime import datetime, timedelta\n",
        "\n",
        "def format_date(timestamp):\n",
        "    datetime_obj = datetime.fromtimestamp(timestamp)\n",
        "    return(datetime_obj)\n",
        "\n",
        "def calculate_landing_time(rocket_launch_dt, travel_duration, datetime_format):\n",
        "    travel_duration_obj = timedelta(days=travel_duration)\n",
        "    landing_date_dt = rocket_launch_dt + travel_duration_obj\n",
        "    landing_date_str = landing_date_dt.strftime(datetime_format)\n",
        "    return(landing_date_str)\n",
        "\n",
        "def days_until_delivery(expected_delivery_dt, current_dt):\n",
        "    delivery_dur = expected_delivery_dt - current_dt\n",
        "    days_until = delivery_dur.days\n",
        "    return(days_until)\n",
        "\n",
        "# Subtracting two datetime objects in Python automatically makes timedelta object\n",
        "# timestamp is UNIX numeric but datetime is readable format that operations can be performed on\n",
        "# timedelta is for holding a duration/range of time that can be added or subtracted from a datetime object"
      ]
    },
    {
      "cell_type": "code",
      "source": [
        "# formatting rocket launch timestamp input\n",
        "timestamp = int(input('What is the rocket launch timestamp?'))\n",
        "rocket_launch_dt = format_date(timestamp)\n",
        "travel_duration = int(input('What is the travel duration in # of days?'))\n",
        "datetime_format = \"%d-%m-%Y\"\n",
        "\n",
        "# landing date calculation\n",
        "print('Landing Date: ' + str(calculate_landing_time(rocket_launch_dt, travel_duration, datetime_format)))"
      ],
      "metadata": {
        "id": "veGJbTs0xt9f",
        "collapsed": true
      },
      "execution_count": null,
      "outputs": []
    },
    {
      "cell_type": "code",
      "source": [
        "# formatting expected satellite delivery timestamp\n",
        "timestamp = int(input('What is the timestamp?'))\n",
        "expected_delivery_dt = format_date(timestamp)\n",
        "current_dt = datetime.now()\n",
        "\n",
        "# days until interstellar satellite delivery\n",
        "print('Days Until Delivery: ' + str(days_until_delivery(expected_delivery_dt, current_dt)))"
      ],
      "metadata": {
        "id": "9osT-KmX_h2-"
      },
      "execution_count": null,
      "outputs": []
    }
  ]
}